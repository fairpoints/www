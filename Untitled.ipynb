{
 "cells": [
  {
   "cell_type": "code",
   "execution_count": 61,
   "id": "f4b6cf18-5192-4cd1-bc16-38fe0f86e161",
   "metadata": {
    "tags": []
   },
   "outputs": [],
   "source": [
    "from rocrate.rocrate import ROCrate\n",
    "\n",
    "crate = ROCrate()"
   ]
  },
  {
   "cell_type": "code",
   "execution_count": 62,
   "id": "9af473b8-d0cd-4f55-8de3-2c038e3eadfb",
   "metadata": {
    "tags": []
   },
   "outputs": [],
   "source": [
    "import json\n",
    "\n",
    "with open(\"data/points/fpr001.json\") as f:\n",
    "    fpr001 = json.load(f)"
   ]
  },
  {
   "cell_type": "code",
   "execution_count": 63,
   "id": "da7ae7ef-ca14-4f92-9693-945ccb72d22d",
   "metadata": {
    "tags": []
   },
   "outputs": [],
   "source": [
    "from rocrate.model.contextentity import ContextEntity\n",
    "\n",
    "event = crate.add(ContextEntity(\n",
    "    crate,\n",
    "    \"https://www.fairpoints.org/fairpoints_resources/1\",\n",
    "    properties=fpr001))"
   ]
  },
  {
   "cell_type": "code",
   "execution_count": 70,
   "id": "ba8140dc-df3d-4f23-8c4d-3228fae8bf20",
   "metadata": {
    "tags": []
   },
   "outputs": [
    {
     "data": {
      "text/plain": [
       "<https://orcid.org/0000-0003-1378-5495 Person>"
      ]
     },
     "execution_count": 70,
     "metadata": {},
     "output_type": "execute_result"
    }
   ],
   "source": [
    "crate.add_file(\"https://drive.google.com/file/d/1-rfaPT7sa5ksu6oSHkRKerVZTxLQmdT-/view?usp=sharing\")\n",
    "crate.add_file(\"https://youtu.be/1dEv5x5imBw\")\n",
    "\n",
    "crate.add(Person(crate, \"https://orcid.org/0000-0003-1378-5495\"))"
   ]
  },
  {
   "cell_type": "code",
   "execution_count": 71,
   "id": "75ab1dca-133b-488e-9ed3-c48d0f95f825",
   "metadata": {
    "tags": []
   },
   "outputs": [],
   "source": [
    "crate.write(\"fpr001_crate\")"
   ]
  }
 ],
 "metadata": {
  "kernelspec": {
   "display_name": "fairpoints-www",
   "language": "python",
   "name": "fairpoints-www"
  },
  "language_info": {
   "codemirror_mode": {
    "name": "ipython",
    "version": 3
   },
   "file_extension": ".py",
   "mimetype": "text/x-python",
   "name": "python",
   "nbconvert_exporter": "python",
   "pygments_lexer": "ipython3",
   "version": "3.10.13"
  }
 },
 "nbformat": 4,
 "nbformat_minor": 5
}
